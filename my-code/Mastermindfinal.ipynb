{
 "cells": [
  {
   "cell_type": "code",
   "execution_count": null,
   "metadata": {},
   "outputs": [],
   "source": [
    "import random\n",
    "import pandas as pd"
   ]
  },
  {
   "cell_type": "code",
   "execution_count": null,
   "metadata": {},
   "outputs": [],
   "source": [
    "class Mastermind():\n",
    "    def __init__(self):\n",
    "        self.column_names = [\"P1\", \"P2\", \"P3\", \"P4\",\"C1\", \"C2\", \"C3\",\"C4\"]\n",
    "        self.board = pd.DataFrame(columns = self.column_names)\n",
    "        self.colorpegs = [\"yellow\", \"red\", \"blue\", \"green\", \"pink\", \"orange\"]\n",
    "        self.tips = []\n",
    "        \n",
    "    def codemaker_choice(self):\n",
    "        return random.choices(self.colorpegs,k=4)\n",
    "\n",
    "    def codeguesser_choice(self):\n",
    "        while True:\n",
    "            try:\n",
    "                self.choice = input (\"\"\"Enter four colors separated by a space(you can repeat them): \n",
    "                Remember, your options are: yellow red blue green pink orange: \"\"\").split()\n",
    "                if not (all([i in self.colorpegs for i in self.choice]) and len(self.choice) == 4):\n",
    "                    raise ValueError\n",
    "                break\n",
    "            except: \n",
    "                print(\"you need to put 4 colors from the list, an example would be: green yellow blue red\")\n",
    "        return self.choice\n",
    "        \n",
    "    def codemaker_r(self,x,y):\n",
    "        for i, j in zip(x, y): \n",
    "            if i == j:\n",
    "                self.tips.append(\"black\")\n",
    "            elif i in y and i!=j:\n",
    "                self.tips.append(\"white\")\n",
    "            else:\n",
    "                self.tips.append(\"none\")\n",
    "                \n",
    "    def run(self):\n",
    "        print(\"\"\"Welcome to mastermind! You can start the game!!\n",
    "            \n",
    "        Today we'll play with the following colors: yellow red blue green pink orange.\n",
    "        \n",
    "        The rules are as follows:\n",
    "            \n",
    "            Black:indicates how many pegs are in a correct position and are the right color\n",
    "            White: indicates how many pegs are the correct color but wrong position\n",
    "            None: indicates that both the color and the position are incorrect\n",
    "            \n",
    "        You only have 10 guesses!!\n",
    "        \n",
    "        Ready?? Let's begin!\n",
    "        \n",
    "        \"\"\")\n",
    "        self.computerchoice = self.codemaker_choice()\n",
    "        self.numberofguesses = 0\n",
    "        while True:\n",
    "            self.numberofguesses += 1\n",
    "            self.mychoice = self.codeguesser_choice()\n",
    "            self.codemaker_r(self.mychoice,self.computerchoice)\n",
    "            random.shuffle(self.tips)\n",
    "            if self.tips == [\"black\",\"black\",\"black\",\"black\"]:\n",
    "                print(\"you guessed the colors!\")\n",
    "                break\n",
    "            elif self.numberofguesses > 11:\n",
    "                print(\"Game Over\")\n",
    "                break\n",
    "            else:\n",
    "                self.round = self.mychoice + self.tips\n",
    "                self.board.loc[len(self.board)]= self.round\n",
    "                print(self.board.iloc[:,:])\n",
    "                self.tips.clear()\n",
    "                \n",
    "if __name__ == \"__main__\":\n",
    "    Mastermind().run()"
   ]
  },
  {
   "cell_type": "code",
   "execution_count": null,
   "metadata": {},
   "outputs": [],
   "source": []
  }
 ],
 "metadata": {
  "kernelspec": {
   "display_name": "Python 3",
   "language": "python",
   "name": "python3"
  },
  "language_info": {
   "codemirror_mode": {
    "name": "ipython",
    "version": 3
   },
   "file_extension": ".py",
   "mimetype": "text/x-python",
   "name": "python",
   "nbconvert_exporter": "python",
   "pygments_lexer": "ipython3",
   "version": "3.8.5"
  },
  "toc": {
   "base_numbering": 1,
   "nav_menu": {},
   "number_sections": true,
   "sideBar": true,
   "skip_h1_title": false,
   "title_cell": "Table of Contents",
   "title_sidebar": "Contents",
   "toc_cell": false,
   "toc_position": {},
   "toc_section_display": true,
   "toc_window_display": false
  },
  "varInspector": {
   "cols": {
    "lenName": 16,
    "lenType": 16,
    "lenVar": 40
   },
   "kernels_config": {
    "python": {
     "delete_cmd_postfix": "",
     "delete_cmd_prefix": "del ",
     "library": "var_list.py",
     "varRefreshCmd": "print(var_dic_list())"
    },
    "r": {
     "delete_cmd_postfix": ") ",
     "delete_cmd_prefix": "rm(",
     "library": "var_list.r",
     "varRefreshCmd": "cat(var_dic_list()) "
    }
   },
   "types_to_exclude": [
    "module",
    "function",
    "builtin_function_or_method",
    "instance",
    "_Feature"
   ],
   "window_display": false
  }
 },
 "nbformat": 4,
 "nbformat_minor": 4
}
